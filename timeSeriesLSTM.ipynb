{
 "cells": [
  {
   "cell_type": "markdown",
   "metadata": {},
   "source": [
    "# Mulitvariate Time Series Forecasting \n",
    "Using the Air Quality dataset that reports on the weather and the level of pollution each hour for five years at the US embassy in Beijing, China, I am trying to forecast the pollution level for the next hour.\n",
    "\n",
    "The data includes the date-time, the pollution called PM2.5 concentration, and the weather information including dew point, temperature, pressure, wind direction, wind speed and the cumulative number of hours of snow and rain. The complete feature list in the raw data is as follows:\n",
    "\n",
    "**No**: row number\n",
    "\n",
    "**year**: year of data in this row\n",
    "\n",
    "**month**: month of data in this row\n",
    "\n",
    "**day**: day of data in this row\n",
    "\n",
    "**hour**: hour of data in this row\n",
    "\n",
    "**pm2.5**: PM2.5 concentration\n",
    "\n",
    "**DEWP**: Dew Point\n",
    "\n",
    "**TEMP**: Temperature\n",
    "\n",
    "**PRES**: Pressure\n",
    "\n",
    "**cbwd**: Combined wind direction\n",
    "\n",
    "**Iws**: Cumulated wind speed\n",
    "\n",
    "**Is**: Cumulated hours of snow\n",
    "\n",
    "**Ir**: Cumulated hours of rain\n"
   ]
  },
  {
   "cell_type": "code",
   "execution_count": 1,
   "metadata": {},
   "outputs": [],
   "source": [
    "import pandas as pd\n",
    "import numpy as np\n",
    "from tensorflow import keras\n",
    "import datetime as dt\n",
    "import sklearn.preprocessing as pre\n",
    "from sklearn import metrics\n",
    "from matplotlib import pyplot"
   ]
  },
  {
   "cell_type": "code",
   "execution_count": 2,
   "metadata": {},
   "outputs": [
    {
     "data": {
      "text/html": [
       "<div>\n",
       "<style scoped>\n",
       "    .dataframe tbody tr th:only-of-type {\n",
       "        vertical-align: middle;\n",
       "    }\n",
       "\n",
       "    .dataframe tbody tr th {\n",
       "        vertical-align: top;\n",
       "    }\n",
       "\n",
       "    .dataframe thead th {\n",
       "        text-align: right;\n",
       "    }\n",
       "</style>\n",
       "<table border=\"1\" class=\"dataframe\">\n",
       "  <thead>\n",
       "    <tr style=\"text-align: right;\">\n",
       "      <th></th>\n",
       "      <th>No</th>\n",
       "      <th>year</th>\n",
       "      <th>month</th>\n",
       "      <th>day</th>\n",
       "      <th>hour</th>\n",
       "      <th>pm2.5</th>\n",
       "      <th>DEWP</th>\n",
       "      <th>TEMP</th>\n",
       "      <th>PRES</th>\n",
       "      <th>cbwd</th>\n",
       "      <th>Iws</th>\n",
       "      <th>Is</th>\n",
       "      <th>Ir</th>\n",
       "    </tr>\n",
       "  </thead>\n",
       "  <tbody>\n",
       "    <tr>\n",
       "      <th>0</th>\n",
       "      <td>1</td>\n",
       "      <td>2010</td>\n",
       "      <td>1</td>\n",
       "      <td>1</td>\n",
       "      <td>0</td>\n",
       "      <td>NaN</td>\n",
       "      <td>-21</td>\n",
       "      <td>-11.0</td>\n",
       "      <td>1021.0</td>\n",
       "      <td>NW</td>\n",
       "      <td>1.79</td>\n",
       "      <td>0</td>\n",
       "      <td>0</td>\n",
       "    </tr>\n",
       "    <tr>\n",
       "      <th>1</th>\n",
       "      <td>2</td>\n",
       "      <td>2010</td>\n",
       "      <td>1</td>\n",
       "      <td>1</td>\n",
       "      <td>1</td>\n",
       "      <td>NaN</td>\n",
       "      <td>-21</td>\n",
       "      <td>-12.0</td>\n",
       "      <td>1020.0</td>\n",
       "      <td>NW</td>\n",
       "      <td>4.92</td>\n",
       "      <td>0</td>\n",
       "      <td>0</td>\n",
       "    </tr>\n",
       "    <tr>\n",
       "      <th>2</th>\n",
       "      <td>3</td>\n",
       "      <td>2010</td>\n",
       "      <td>1</td>\n",
       "      <td>1</td>\n",
       "      <td>2</td>\n",
       "      <td>NaN</td>\n",
       "      <td>-21</td>\n",
       "      <td>-11.0</td>\n",
       "      <td>1019.0</td>\n",
       "      <td>NW</td>\n",
       "      <td>6.71</td>\n",
       "      <td>0</td>\n",
       "      <td>0</td>\n",
       "    </tr>\n",
       "    <tr>\n",
       "      <th>3</th>\n",
       "      <td>4</td>\n",
       "      <td>2010</td>\n",
       "      <td>1</td>\n",
       "      <td>1</td>\n",
       "      <td>3</td>\n",
       "      <td>NaN</td>\n",
       "      <td>-21</td>\n",
       "      <td>-14.0</td>\n",
       "      <td>1019.0</td>\n",
       "      <td>NW</td>\n",
       "      <td>9.84</td>\n",
       "      <td>0</td>\n",
       "      <td>0</td>\n",
       "    </tr>\n",
       "    <tr>\n",
       "      <th>4</th>\n",
       "      <td>5</td>\n",
       "      <td>2010</td>\n",
       "      <td>1</td>\n",
       "      <td>1</td>\n",
       "      <td>4</td>\n",
       "      <td>NaN</td>\n",
       "      <td>-20</td>\n",
       "      <td>-12.0</td>\n",
       "      <td>1018.0</td>\n",
       "      <td>NW</td>\n",
       "      <td>12.97</td>\n",
       "      <td>0</td>\n",
       "      <td>0</td>\n",
       "    </tr>\n",
       "  </tbody>\n",
       "</table>\n",
       "</div>"
      ],
      "text/plain": [
       "   No  year  month  day  hour  pm2.5  DEWP  TEMP    PRES cbwd    Iws  Is  Ir\n",
       "0   1  2010      1    1     0    NaN   -21 -11.0  1021.0   NW   1.79   0   0\n",
       "1   2  2010      1    1     1    NaN   -21 -12.0  1020.0   NW   4.92   0   0\n",
       "2   3  2010      1    1     2    NaN   -21 -11.0  1019.0   NW   6.71   0   0\n",
       "3   4  2010      1    1     3    NaN   -21 -14.0  1019.0   NW   9.84   0   0\n",
       "4   5  2010      1    1     4    NaN   -20 -12.0  1018.0   NW  12.97   0   0"
      ]
     },
     "execution_count": 2,
     "metadata": {},
     "output_type": "execute_result"
    }
   ],
   "source": [
    "data = pd.read_csv('/Users/ishitabhandari/Desktop/CS_Resources/pollutionData.csv')\n",
    "data.head()"
   ]
  },
  {
   "cell_type": "markdown",
   "metadata": {},
   "source": [
    "Consolidating the date and time information into a single date-time so that I can use it as an index later."
   ]
  },
  {
   "cell_type": "code",
   "execution_count": 3,
   "metadata": {},
   "outputs": [
    {
     "data": {
      "text/html": [
       "<div>\n",
       "<style scoped>\n",
       "    .dataframe tbody tr th:only-of-type {\n",
       "        vertical-align: middle;\n",
       "    }\n",
       "\n",
       "    .dataframe tbody tr th {\n",
       "        vertical-align: top;\n",
       "    }\n",
       "\n",
       "    .dataframe thead th {\n",
       "        text-align: right;\n",
       "    }\n",
       "</style>\n",
       "<table border=\"1\" class=\"dataframe\">\n",
       "  <thead>\n",
       "    <tr style=\"text-align: right;\">\n",
       "      <th></th>\n",
       "      <th>No</th>\n",
       "      <th>year</th>\n",
       "      <th>month</th>\n",
       "      <th>day</th>\n",
       "      <th>hour</th>\n",
       "      <th>pm2.5</th>\n",
       "      <th>DEWP</th>\n",
       "      <th>TEMP</th>\n",
       "      <th>PRES</th>\n",
       "      <th>cbwd</th>\n",
       "      <th>Iws</th>\n",
       "      <th>Is</th>\n",
       "      <th>Ir</th>\n",
       "      <th>date_time</th>\n",
       "    </tr>\n",
       "  </thead>\n",
       "  <tbody>\n",
       "    <tr>\n",
       "      <th>0</th>\n",
       "      <td>1</td>\n",
       "      <td>2010</td>\n",
       "      <td>1</td>\n",
       "      <td>1</td>\n",
       "      <td>0</td>\n",
       "      <td>NaN</td>\n",
       "      <td>-21</td>\n",
       "      <td>-11.0</td>\n",
       "      <td>1021.0</td>\n",
       "      <td>NW</td>\n",
       "      <td>1.79</td>\n",
       "      <td>0</td>\n",
       "      <td>0</td>\n",
       "      <td>2010-01-01 00:00:00</td>\n",
       "    </tr>\n",
       "    <tr>\n",
       "      <th>1</th>\n",
       "      <td>2</td>\n",
       "      <td>2010</td>\n",
       "      <td>1</td>\n",
       "      <td>1</td>\n",
       "      <td>1</td>\n",
       "      <td>NaN</td>\n",
       "      <td>-21</td>\n",
       "      <td>-12.0</td>\n",
       "      <td>1020.0</td>\n",
       "      <td>NW</td>\n",
       "      <td>4.92</td>\n",
       "      <td>0</td>\n",
       "      <td>0</td>\n",
       "      <td>2010-01-01 01:00:00</td>\n",
       "    </tr>\n",
       "    <tr>\n",
       "      <th>2</th>\n",
       "      <td>3</td>\n",
       "      <td>2010</td>\n",
       "      <td>1</td>\n",
       "      <td>1</td>\n",
       "      <td>2</td>\n",
       "      <td>NaN</td>\n",
       "      <td>-21</td>\n",
       "      <td>-11.0</td>\n",
       "      <td>1019.0</td>\n",
       "      <td>NW</td>\n",
       "      <td>6.71</td>\n",
       "      <td>0</td>\n",
       "      <td>0</td>\n",
       "      <td>2010-01-01 02:00:00</td>\n",
       "    </tr>\n",
       "    <tr>\n",
       "      <th>3</th>\n",
       "      <td>4</td>\n",
       "      <td>2010</td>\n",
       "      <td>1</td>\n",
       "      <td>1</td>\n",
       "      <td>3</td>\n",
       "      <td>NaN</td>\n",
       "      <td>-21</td>\n",
       "      <td>-14.0</td>\n",
       "      <td>1019.0</td>\n",
       "      <td>NW</td>\n",
       "      <td>9.84</td>\n",
       "      <td>0</td>\n",
       "      <td>0</td>\n",
       "      <td>2010-01-01 03:00:00</td>\n",
       "    </tr>\n",
       "    <tr>\n",
       "      <th>4</th>\n",
       "      <td>5</td>\n",
       "      <td>2010</td>\n",
       "      <td>1</td>\n",
       "      <td>1</td>\n",
       "      <td>4</td>\n",
       "      <td>NaN</td>\n",
       "      <td>-20</td>\n",
       "      <td>-12.0</td>\n",
       "      <td>1018.0</td>\n",
       "      <td>NW</td>\n",
       "      <td>12.97</td>\n",
       "      <td>0</td>\n",
       "      <td>0</td>\n",
       "      <td>2010-01-01 04:00:00</td>\n",
       "    </tr>\n",
       "  </tbody>\n",
       "</table>\n",
       "</div>"
      ],
      "text/plain": [
       "   No  year  month  day  hour  pm2.5  DEWP  TEMP    PRES cbwd    Iws  Is  Ir  \\\n",
       "0   1  2010      1    1     0    NaN   -21 -11.0  1021.0   NW   1.79   0   0   \n",
       "1   2  2010      1    1     1    NaN   -21 -12.0  1020.0   NW   4.92   0   0   \n",
       "2   3  2010      1    1     2    NaN   -21 -11.0  1019.0   NW   6.71   0   0   \n",
       "3   4  2010      1    1     3    NaN   -21 -14.0  1019.0   NW   9.84   0   0   \n",
       "4   5  2010      1    1     4    NaN   -20 -12.0  1018.0   NW  12.97   0   0   \n",
       "\n",
       "            date_time  \n",
       "0 2010-01-01 00:00:00  \n",
       "1 2010-01-01 01:00:00  \n",
       "2 2010-01-01 02:00:00  \n",
       "3 2010-01-01 03:00:00  \n",
       "4 2010-01-01 04:00:00  "
      ]
     },
     "execution_count": 3,
     "metadata": {},
     "output_type": "execute_result"
    }
   ],
   "source": [
    "data['date_time']= data.apply(lambda x: dt.datetime(x.year, x.month, x.day, x.hour), axis = 1)\n",
    "data.head()"
   ]
  },
  {
   "cell_type": "code",
   "execution_count": 4,
   "metadata": {},
   "outputs": [
    {
     "data": {
      "text/plain": [
       "0       NaN\n",
       "1       NaN\n",
       "2       NaN\n",
       "3       NaN\n",
       "4       NaN\n",
       "5       NaN\n",
       "6       NaN\n",
       "7       NaN\n",
       "8       NaN\n",
       "9       NaN\n",
       "10      NaN\n",
       "11      NaN\n",
       "12      NaN\n",
       "13      NaN\n",
       "14      NaN\n",
       "15      NaN\n",
       "16      NaN\n",
       "17      NaN\n",
       "18      NaN\n",
       "19      NaN\n",
       "20      NaN\n",
       "21      NaN\n",
       "22      NaN\n",
       "23      NaN\n",
       "24    129.0\n",
       "25    148.0\n",
       "26    159.0\n",
       "27    181.0\n",
       "28    138.0\n",
       "29    109.0\n",
       "Name: pm2.5, dtype: float64"
      ]
     },
     "execution_count": 4,
     "metadata": {},
     "output_type": "execute_result"
    }
   ],
   "source": [
    "data['pm2.5'].head(30)"
   ]
  },
  {
   "cell_type": "markdown",
   "metadata": {},
   "source": [
    "Missing the first 24 hours of Pollution information, hence removing those and filling the remaining NAs with 0"
   ]
  },
  {
   "cell_type": "code",
   "execution_count": 5,
   "metadata": {},
   "outputs": [
    {
     "data": {
      "text/plain": [
       "2043"
      ]
     },
     "execution_count": 5,
     "metadata": {},
     "output_type": "execute_result"
    }
   ],
   "source": [
    "clean_data = data[24:]\n",
    "clean_data['pm2.5'].isna().sum()"
   ]
  },
  {
   "cell_type": "code",
   "execution_count": 6,
   "metadata": {},
   "outputs": [
    {
     "name": "stderr",
     "output_type": "stream",
     "text": [
      "/anaconda3/envs/hello-tf/lib/python3.6/site-packages/ipykernel_launcher.py:1: SettingWithCopyWarning: \n",
      "A value is trying to be set on a copy of a slice from a DataFrame.\n",
      "Try using .loc[row_indexer,col_indexer] = value instead\n",
      "\n",
      "See the caveats in the documentation: https://pandas.pydata.org/pandas-docs/stable/user_guide/indexing.html#returning-a-view-versus-a-copy\n",
      "  \"\"\"Entry point for launching an IPython kernel.\n"
     ]
    }
   ],
   "source": [
    "clean_data['pm2.5'] = clean_data['pm2.5'].fillna(value= 0)"
   ]
  },
  {
   "cell_type": "code",
   "execution_count": 7,
   "metadata": {},
   "outputs": [
    {
     "data": {
      "text/plain": [
       "0"
      ]
     },
     "execution_count": 7,
     "metadata": {},
     "output_type": "execute_result"
    }
   ],
   "source": [
    "clean_data['pm2.5'].isna().sum()"
   ]
  },
  {
   "cell_type": "code",
   "execution_count": 8,
   "metadata": {},
   "outputs": [
    {
     "name": "stderr",
     "output_type": "stream",
     "text": [
      "/anaconda3/envs/hello-tf/lib/python3.6/site-packages/pandas/core/frame.py:3997: SettingWithCopyWarning: \n",
      "A value is trying to be set on a copy of a slice from a DataFrame\n",
      "\n",
      "See the caveats in the documentation: https://pandas.pydata.org/pandas-docs/stable/user_guide/indexing.html#returning-a-view-versus-a-copy\n",
      "  errors=errors,\n"
     ]
    },
    {
     "data": {
      "text/html": [
       "<div>\n",
       "<style scoped>\n",
       "    .dataframe tbody tr th:only-of-type {\n",
       "        vertical-align: middle;\n",
       "    }\n",
       "\n",
       "    .dataframe tbody tr th {\n",
       "        vertical-align: top;\n",
       "    }\n",
       "\n",
       "    .dataframe thead th {\n",
       "        text-align: right;\n",
       "    }\n",
       "</style>\n",
       "<table border=\"1\" class=\"dataframe\">\n",
       "  <thead>\n",
       "    <tr style=\"text-align: right;\">\n",
       "      <th></th>\n",
       "      <th>pm2.5</th>\n",
       "      <th>DEWP</th>\n",
       "      <th>TEMP</th>\n",
       "      <th>PRES</th>\n",
       "      <th>cbwd</th>\n",
       "      <th>Iws</th>\n",
       "      <th>Is</th>\n",
       "      <th>Ir</th>\n",
       "      <th>date_time</th>\n",
       "    </tr>\n",
       "  </thead>\n",
       "  <tbody>\n",
       "    <tr>\n",
       "      <th>24</th>\n",
       "      <td>129.0</td>\n",
       "      <td>-16</td>\n",
       "      <td>-4.0</td>\n",
       "      <td>1020.0</td>\n",
       "      <td>SE</td>\n",
       "      <td>1.79</td>\n",
       "      <td>0</td>\n",
       "      <td>0</td>\n",
       "      <td>2010-01-02 00:00:00</td>\n",
       "    </tr>\n",
       "    <tr>\n",
       "      <th>25</th>\n",
       "      <td>148.0</td>\n",
       "      <td>-15</td>\n",
       "      <td>-4.0</td>\n",
       "      <td>1020.0</td>\n",
       "      <td>SE</td>\n",
       "      <td>2.68</td>\n",
       "      <td>0</td>\n",
       "      <td>0</td>\n",
       "      <td>2010-01-02 01:00:00</td>\n",
       "    </tr>\n",
       "    <tr>\n",
       "      <th>26</th>\n",
       "      <td>159.0</td>\n",
       "      <td>-11</td>\n",
       "      <td>-5.0</td>\n",
       "      <td>1021.0</td>\n",
       "      <td>SE</td>\n",
       "      <td>3.57</td>\n",
       "      <td>0</td>\n",
       "      <td>0</td>\n",
       "      <td>2010-01-02 02:00:00</td>\n",
       "    </tr>\n",
       "    <tr>\n",
       "      <th>27</th>\n",
       "      <td>181.0</td>\n",
       "      <td>-7</td>\n",
       "      <td>-5.0</td>\n",
       "      <td>1022.0</td>\n",
       "      <td>SE</td>\n",
       "      <td>5.36</td>\n",
       "      <td>1</td>\n",
       "      <td>0</td>\n",
       "      <td>2010-01-02 03:00:00</td>\n",
       "    </tr>\n",
       "    <tr>\n",
       "      <th>28</th>\n",
       "      <td>138.0</td>\n",
       "      <td>-7</td>\n",
       "      <td>-5.0</td>\n",
       "      <td>1022.0</td>\n",
       "      <td>SE</td>\n",
       "      <td>6.25</td>\n",
       "      <td>2</td>\n",
       "      <td>0</td>\n",
       "      <td>2010-01-02 04:00:00</td>\n",
       "    </tr>\n",
       "  </tbody>\n",
       "</table>\n",
       "</div>"
      ],
      "text/plain": [
       "    pm2.5  DEWP  TEMP    PRES cbwd   Iws  Is  Ir           date_time\n",
       "24  129.0   -16  -4.0  1020.0   SE  1.79   0   0 2010-01-02 00:00:00\n",
       "25  148.0   -15  -4.0  1020.0   SE  2.68   0   0 2010-01-02 01:00:00\n",
       "26  159.0   -11  -5.0  1021.0   SE  3.57   0   0 2010-01-02 02:00:00\n",
       "27  181.0    -7  -5.0  1022.0   SE  5.36   1   0 2010-01-02 03:00:00\n",
       "28  138.0    -7  -5.0  1022.0   SE  6.25   2   0 2010-01-02 04:00:00"
      ]
     },
     "execution_count": 8,
     "metadata": {},
     "output_type": "execute_result"
    }
   ],
   "source": [
    "##Removing all the redundant columns\n",
    "clean_data.drop(columns=['No', 'year', 'month', 'day', 'hour'], inplace= True)\n",
    "clean_data.head()"
   ]
  },
  {
   "cell_type": "code",
   "execution_count": 9,
   "metadata": {},
   "outputs": [
    {
     "data": {
      "text/plain": [
       "array(['SE', 'cv', 'NW', 'NE'], dtype=object)"
      ]
     },
     "execution_count": 9,
     "metadata": {},
     "output_type": "execute_result"
    }
   ],
   "source": [
    "clean_data.cbwd.unique()"
   ]
  },
  {
   "cell_type": "code",
   "execution_count": 34,
   "metadata": {},
   "outputs": [],
   "source": [
    "data2 = clean_data.set_index('date_time')"
   ]
  },
  {
   "cell_type": "markdown",
   "metadata": {},
   "source": [
    "### Prepping the data and Creating an LSTM model "
   ]
  },
  {
   "cell_type": "code",
   "execution_count": 35,
   "metadata": {},
   "outputs": [],
   "source": [
    "# convert series to supervised learning\n",
    "def toSupervised(data, n_in=1, n_out=1, dropnan=True):\n",
    "    n_vars = 1 if type(data) is list else data.shape[1]\n",
    "    df = pd.DataFrame(data)\n",
    "    cols, names = list(), list()\n",
    "    # input sequence (t-n, ... t-1)\n",
    "    for i in range(n_in, 0, -1):\n",
    "        cols.append(df.shift(i))\n",
    "        names += [('var%d(t-%d)' % (j+1, i)) for j in range(n_vars)]\n",
    "    # forecast sequence (t, t+1, ... t+n)\n",
    "    for i in range(0, n_out):\n",
    "        cols.append(df.shift(-i))\n",
    "        if i == 0:\n",
    "            names += [('var%d(t)' % (j+1)) for j in range(n_vars)]\n",
    "        else:\n",
    "            names += [('var%d(t+%d)' % (j+1, i)) for j in range(n_vars)]\n",
    "    # put it all together\n",
    "    agg = pd.concat(cols, axis=1)\n",
    "    agg.columns = names\n",
    "    # drop rows with NaN values\n",
    "    if dropnan:\n",
    "        agg.dropna(inplace=True)\n",
    "    return agg"
   ]
  },
  {
   "cell_type": "code",
   "execution_count": 36,
   "metadata": {},
   "outputs": [],
   "source": [
    "# load dataset\n",
    "\n",
    "values = data2.values\n",
    "# integer encode direction\n",
    "encoder = pre.LabelEncoder()\n",
    "values[:,4] = encoder.fit_transform(values[:,4])\n",
    "# ensure all data is float\n",
    "values = values.astype('float32')\n",
    "# normalize features\n",
    "scaler = pre.MinMaxScaler(feature_range=(0, 1))\n",
    "scaled = scaler.fit_transform(values)\n",
    "# frame as supervised learning\n",
    "reframed = toSupervised(scaled, 1, 1)"
   ]
  },
  {
   "cell_type": "code",
   "execution_count": 37,
   "metadata": {},
   "outputs": [
    {
     "data": {
      "text/plain": [
       "Index(['var1(t-1)', 'var2(t-1)', 'var3(t-1)', 'var4(t-1)', 'var5(t-1)',\n",
       "       'var6(t-1)', 'var7(t-1)', 'var8(t-1)', 'var1(t)', 'var2(t)', 'var3(t)',\n",
       "       'var4(t)', 'var5(t)', 'var6(t)', 'var7(t)', 'var8(t)'],\n",
       "      dtype='object')"
      ]
     },
     "execution_count": 37,
     "metadata": {},
     "output_type": "execute_result"
    }
   ],
   "source": [
    "reframed.columns"
   ]
  },
  {
   "cell_type": "code",
   "execution_count": 38,
   "metadata": {},
   "outputs": [
    {
     "name": "stdout",
     "output_type": "stream",
     "text": [
      "Index(['var1(t-1)', 'var2(t-1)', 'var3(t-1)', 'var4(t-1)', 'var5(t-1)',\n",
      "       'var6(t-1)', 'var7(t-1)', 'var8(t-1)', 'var1(t)'],\n",
      "      dtype='object')\n"
     ]
    }
   ],
   "source": [
    "reframed.drop(reframed.columns[9:], axis=1, inplace=True)\n",
    "print(reframed.columns)"
   ]
  },
  {
   "cell_type": "code",
   "execution_count": 39,
   "metadata": {},
   "outputs": [
    {
     "name": "stdout",
     "output_type": "stream",
     "text": [
      "(26280, 1, 8) (26280,) (17519, 1, 8) (17519,)\n"
     ]
    }
   ],
   "source": [
    "# split into train and test sets\n",
    "values = reframed.values\n",
    "n_train_hours = 3 * 365 * 24\n",
    "train = values[:n_train_hours, :]\n",
    "test = values[n_train_hours:, :]\n",
    "# split into input and outputs\n",
    "train_X, train_y = train[:, :-1], train[:, -1]\n",
    "test_X, test_y = test[:, :-1], test[:, -1]\n",
    "# reshape input to be 3D [samples, timesteps, features]\n",
    "train_X = train_X.reshape((train_X.shape[0], 1, train_X.shape[1]))\n",
    "test_X = test_X.reshape((test_X.shape[0], 1, test_X.shape[1]))\n",
    "print(train_X.shape, train_y.shape, test_X.shape, test_y.shape)"
   ]
  },
  {
   "cell_type": "markdown",
   "metadata": {},
   "source": [
    "Creating the model"
   ]
  },
  {
   "cell_type": "code",
   "execution_count": 40,
   "metadata": {},
   "outputs": [],
   "source": [
    "model = keras.Sequential()\n",
    "model.add(keras.layers.LSTM(50, input_shape=(train_X.shape[1], train_X.shape[2])))\n",
    "model.add(keras.layers.Dense(1))\n",
    "model.compile(loss='mae', optimizer='adam')"
   ]
  },
  {
   "cell_type": "code",
   "execution_count": 41,
   "metadata": {},
   "outputs": [
    {
     "name": "stdout",
     "output_type": "stream",
     "text": [
      "Train on 26280 samples, validate on 17519 samples\n",
      "Epoch 1/50\n",
      "26280/26280 - 3s - loss: 0.0461 - val_loss: 0.0728\n",
      "Epoch 2/50\n",
      "26280/26280 - 2s - loss: 0.0167 - val_loss: 0.0214\n",
      "Epoch 3/50\n",
      "26280/26280 - 1s - loss: 0.0140 - val_loss: 0.0146\n",
      "Epoch 4/50\n",
      "26280/26280 - 1s - loss: 0.0138 - val_loss: 0.0148\n",
      "Epoch 5/50\n",
      "26280/26280 - 1s - loss: 0.0138 - val_loss: 0.0152\n",
      "Epoch 6/50\n",
      "26280/26280 - 1s - loss: 0.0138 - val_loss: 0.0152\n",
      "Epoch 7/50\n",
      "26280/26280 - 1s - loss: 0.0138 - val_loss: 0.0159\n",
      "Epoch 8/50\n",
      "26280/26280 - 1s - loss: 0.0138 - val_loss: 0.0157\n",
      "Epoch 9/50\n",
      "26280/26280 - 1s - loss: 0.0138 - val_loss: 0.0155\n",
      "Epoch 10/50\n",
      "26280/26280 - 1s - loss: 0.0138 - val_loss: 0.0154\n",
      "Epoch 11/50\n",
      "26280/26280 - 2s - loss: 0.0137 - val_loss: 0.0157\n",
      "Epoch 12/50\n",
      "26280/26280 - 1s - loss: 0.0137 - val_loss: 0.0155\n",
      "Epoch 13/50\n",
      "26280/26280 - 1s - loss: 0.0137 - val_loss: 0.0151\n",
      "Epoch 14/50\n",
      "26280/26280 - 1s - loss: 0.0137 - val_loss: 0.0150\n",
      "Epoch 15/50\n",
      "26280/26280 - 1s - loss: 0.0137 - val_loss: 0.0151\n",
      "Epoch 16/50\n",
      "26280/26280 - 1s - loss: 0.0137 - val_loss: 0.0145\n",
      "Epoch 17/50\n",
      "26280/26280 - 1s - loss: 0.0136 - val_loss: 0.0149\n",
      "Epoch 18/50\n",
      "26280/26280 - 1s - loss: 0.0137 - val_loss: 0.0141\n",
      "Epoch 19/50\n",
      "26280/26280 - 1s - loss: 0.0136 - val_loss: 0.0146\n",
      "Epoch 20/50\n",
      "26280/26280 - 1s - loss: 0.0136 - val_loss: 0.0144\n",
      "Epoch 21/50\n",
      "26280/26280 - 1s - loss: 0.0137 - val_loss: 0.0145\n",
      "Epoch 22/50\n",
      "26280/26280 - 1s - loss: 0.0137 - val_loss: 0.0141\n",
      "Epoch 23/50\n",
      "26280/26280 - 1s - loss: 0.0136 - val_loss: 0.0143\n",
      "Epoch 24/50\n",
      "26280/26280 - 1s - loss: 0.0136 - val_loss: 0.0142\n",
      "Epoch 25/50\n",
      "26280/26280 - 1s - loss: 0.0136 - val_loss: 0.0140\n",
      "Epoch 26/50\n",
      "26280/26280 - 1s - loss: 0.0136 - val_loss: 0.0137\n",
      "Epoch 27/50\n",
      "26280/26280 - 1s - loss: 0.0135 - val_loss: 0.0139\n",
      "Epoch 28/50\n",
      "26280/26280 - 1s - loss: 0.0136 - val_loss: 0.0137\n",
      "Epoch 29/50\n",
      "26280/26280 - 1s - loss: 0.0136 - val_loss: 0.0139\n",
      "Epoch 30/50\n",
      "26280/26280 - 1s - loss: 0.0135 - val_loss: 0.0137\n",
      "Epoch 31/50\n",
      "26280/26280 - 1s - loss: 0.0135 - val_loss: 0.0139\n",
      "Epoch 32/50\n",
      "26280/26280 - 1s - loss: 0.0135 - val_loss: 0.0137\n",
      "Epoch 33/50\n",
      "26280/26280 - 1s - loss: 0.0135 - val_loss: 0.0139\n",
      "Epoch 34/50\n",
      "26280/26280 - 1s - loss: 0.0136 - val_loss: 0.0138\n",
      "Epoch 35/50\n",
      "26280/26280 - 1s - loss: 0.0136 - val_loss: 0.0139\n",
      "Epoch 36/50\n",
      "26280/26280 - 1s - loss: 0.0136 - val_loss: 0.0137\n",
      "Epoch 37/50\n",
      "26280/26280 - 1s - loss: 0.0136 - val_loss: 0.0138\n",
      "Epoch 38/50\n",
      "26280/26280 - 1s - loss: 0.0135 - val_loss: 0.0139\n",
      "Epoch 39/50\n",
      "26280/26280 - 1s - loss: 0.0135 - val_loss: 0.0138\n",
      "Epoch 40/50\n",
      "26280/26280 - 1s - loss: 0.0135 - val_loss: 0.0138\n",
      "Epoch 41/50\n",
      "26280/26280 - 1s - loss: 0.0136 - val_loss: 0.0137\n",
      "Epoch 42/50\n",
      "26280/26280 - 1s - loss: 0.0136 - val_loss: 0.0139\n",
      "Epoch 43/50\n",
      "26280/26280 - 1s - loss: 0.0135 - val_loss: 0.0138\n",
      "Epoch 44/50\n",
      "26280/26280 - 1s - loss: 0.0135 - val_loss: 0.0137\n",
      "Epoch 45/50\n",
      "26280/26280 - 1s - loss: 0.0135 - val_loss: 0.0137\n",
      "Epoch 46/50\n",
      "26280/26280 - 1s - loss: 0.0136 - val_loss: 0.0138\n",
      "Epoch 47/50\n",
      "26280/26280 - 1s - loss: 0.0135 - val_loss: 0.0137\n",
      "Epoch 48/50\n",
      "26280/26280 - 1s - loss: 0.0135 - val_loss: 0.0136\n",
      "Epoch 49/50\n",
      "26280/26280 - 1s - loss: 0.0135 - val_loss: 0.0137\n",
      "Epoch 50/50\n",
      "26280/26280 - 1s - loss: 0.0135 - val_loss: 0.0137\n"
     ]
    }
   ],
   "source": [
    "# fit network\n",
    "history = model.fit(train_X, train_y, epochs=50, batch_size=72, validation_data=(test_X, test_y), verbose=2, shuffle=False)"
   ]
  },
  {
   "cell_type": "code",
   "execution_count": 42,
   "metadata": {},
   "outputs": [
    {
     "data": {
      "image/png": "[encoded data removed]",
      "text/plain": [
       "<Figure size 432x288 with 1 Axes>"
      ]
     },
     "metadata": {
      "needs_background": "light"
     },
     "output_type": "display_data"
    }
   ],
   "source": [
    "# plot history\n",
    "pyplot.plot(history.history['loss'], label='train')\n",
    "pyplot.plot(history.history['val_loss'], label='test')\n",
    "pyplot.legend()\n",
    "pyplot.show()"
   ]
  },
  {
   "cell_type": "markdown",
   "metadata": {},
   "source": [
    "The loss sharply drops for test compared to our training set and both the losses approach to 0.\n"
   ]
  },
  {
   "cell_type": "code",
   "execution_count": 43,
   "metadata": {},
   "outputs": [],
   "source": [
    "##Predicting pollution\n",
    "y_pred = model.predict(test_X)"
   ]
  },
  {
   "cell_type": "code",
   "execution_count": 44,
   "metadata": {},
   "outputs": [],
   "source": [
    "test_X = test_X.reshape((test_X.shape[0], test_X.shape[2]))\n",
    "# invert scaling for forecast\n",
    "inv_yhat = np.concatenate((y_pred, test_X[:, 1:]), axis=1)\n",
    "inv_yhat = scaler.inverse_transform(inv_yhat)\n",
    "inv_yhat = inv_yhat[:,0]\n",
    "# invert scaling for actual\n",
    "test_y = test_y.reshape((len(test_y), 1))\n",
    "inv_y = np.concatenate((test_y, test_X[:, 1:]), axis=1)\n",
    "inv_y = scaler.inverse_transform(inv_y)\n",
    "inv_y = inv_y[:,0]"
   ]
  },
  {
   "cell_type": "code",
   "execution_count": 45,
   "metadata": {},
   "outputs": [
    {
     "name": "stdout",
     "output_type": "stream",
     "text": [
      "Test RMSE: 26.725\n"
     ]
    }
   ],
   "source": [
    "# calculate RMSE\n",
    "rmse = np.sqrt(metrics.mean_squared_error(inv_y, inv_yhat))\n",
    "print('Test RMSE: %.3f' % rmse)"
   ]
  },
  {
   "cell_type": "markdown",
   "metadata": {},
   "source": [
    "The model performance is though above average and but now I am training on a different model with an extra layer."
   ]
  },
  {
   "cell_type": "code",
   "execution_count": 72,
   "metadata": {},
   "outputs": [
    {
     "name": "stdout",
     "output_type": "stream",
     "text": [
      "(26280, 1, 8) (26280,) (17519, 1, 8) (17519,)\n"
     ]
    }
   ],
   "source": [
    "# split into train and test sets\n",
    "values = reframed.values\n",
    "n_train_hours = 3 * 365 * 24\n",
    "train = values[:n_train_hours, :]\n",
    "test = values[n_train_hours:, :]\n",
    "# split into input and outputs\n",
    "train_X, train_y = train[:, :-1], train[:, -1]\n",
    "test_X, test_y = test[:, :-1], test[:, -1]\n",
    "# reshape input to be 3D [samples, timesteps, features]\n",
    "train_X = train_X.reshape((train_X.shape[0], 1, train_X.shape[1]))\n",
    "test_X = test_X.reshape((test_X.shape[0], 1, test_X.shape[1]))\n",
    "print(train_X.shape, train_y.shape, test_X.shape, test_y.shape)"
   ]
  },
  {
   "cell_type": "code",
   "execution_count": 73,
   "metadata": {},
   "outputs": [],
   "source": [
    "model2 = keras.Sequential()\n",
    "model2.add(keras.layers.LSTM(84, dropout= 0.025, input_shape=(train_X.shape[1], train_X.shape[2])))\n",
    "model2.add(keras.layers.Dense(10))\n",
    "model2.add(keras.layers.Dense(1))\n",
    "model2.compile(loss='mae', optimizer='adam')"
   ]
  },
  {
   "cell_type": "code",
   "execution_count": 74,
   "metadata": {},
   "outputs": [
    {
     "name": "stdout",
     "output_type": "stream",
     "text": [
      "Train on 26280 samples, validate on 17519 samples\n",
      "Epoch 1/50\n",
      "26280/26280 - 4s - loss: 0.0328 - val_loss: 0.0149\n",
      "Epoch 2/50\n",
      "26280/26280 - 2s - loss: 0.0166 - val_loss: 0.0146\n",
      "Epoch 3/50\n",
      "26280/26280 - 2s - loss: 0.0163 - val_loss: 0.0151\n",
      "Epoch 4/50\n",
      "26280/26280 - 2s - loss: 0.0168 - val_loss: 0.0150\n",
      "Epoch 5/50\n",
      "26280/26280 - 1s - loss: 0.0162 - val_loss: 0.0140\n",
      "Epoch 6/50\n",
      "26280/26280 - 1s - loss: 0.0162 - val_loss: 0.0143\n",
      "Epoch 7/50\n",
      "26280/26280 - 1s - loss: 0.0163 - val_loss: 0.0140\n",
      "Epoch 8/50\n",
      "26280/26280 - 2s - loss: 0.0162 - val_loss: 0.0142\n",
      "Epoch 9/50\n",
      "26280/26280 - 2s - loss: 0.0160 - val_loss: 0.0139\n",
      "Epoch 10/50\n",
      "26280/26280 - 2s - loss: 0.0162 - val_loss: 0.0140\n",
      "Epoch 11/50\n",
      "26280/26280 - 1s - loss: 0.0162 - val_loss: 0.0141\n",
      "Epoch 12/50\n",
      "26280/26280 - 1s - loss: 0.0161 - val_loss: 0.0144\n",
      "Epoch 13/50\n",
      "26280/26280 - 1s - loss: 0.0159 - val_loss: 0.0148\n",
      "Epoch 14/50\n",
      "26280/26280 - 2s - loss: 0.0161 - val_loss: 0.0145\n",
      "Epoch 15/50\n",
      "26280/26280 - 1s - loss: 0.0158 - val_loss: 0.0149\n",
      "Epoch 16/50\n",
      "26280/26280 - 1s - loss: 0.0158 - val_loss: 0.0143\n",
      "Epoch 17/50\n",
      "26280/26280 - 1s - loss: 0.0160 - val_loss: 0.0151\n",
      "Epoch 18/50\n",
      "26280/26280 - 1s - loss: 0.0159 - val_loss: 0.0143\n",
      "Epoch 19/50\n",
      "26280/26280 - 1s - loss: 0.0159 - val_loss: 0.0144\n",
      "Epoch 20/50\n",
      "26280/26280 - 1s - loss: 0.0157 - val_loss: 0.0143\n",
      "Epoch 21/50\n",
      "26280/26280 - 1s - loss: 0.0159 - val_loss: 0.0147\n",
      "Epoch 22/50\n",
      "26280/26280 - 2s - loss: 0.0158 - val_loss: 0.0141\n",
      "Epoch 23/50\n",
      "26280/26280 - 2s - loss: 0.0157 - val_loss: 0.0141\n",
      "Epoch 24/50\n",
      "26280/26280 - 2s - loss: 0.0157 - val_loss: 0.0143\n",
      "Epoch 25/50\n",
      "26280/26280 - 1s - loss: 0.0158 - val_loss: 0.0140\n",
      "Epoch 26/50\n",
      "26280/26280 - 1s - loss: 0.0157 - val_loss: 0.0143\n",
      "Epoch 27/50\n",
      "26280/26280 - 1s - loss: 0.0156 - val_loss: 0.0162\n",
      "Epoch 28/50\n",
      "26280/26280 - 1s - loss: 0.0157 - val_loss: 0.0142\n",
      "Epoch 29/50\n",
      "26280/26280 - 1s - loss: 0.0157 - val_loss: 0.0140\n",
      "Epoch 30/50\n",
      "26280/26280 - 1s - loss: 0.0155 - val_loss: 0.0140\n",
      "Epoch 31/50\n",
      "26280/26280 - 2s - loss: 0.0158 - val_loss: 0.0143\n",
      "Epoch 32/50\n",
      "26280/26280 - 3s - loss: 0.0154 - val_loss: 0.0143\n",
      "Epoch 33/50\n",
      "26280/26280 - 3s - loss: 0.0154 - val_loss: 0.0137\n",
      "Epoch 34/50\n",
      "26280/26280 - 3s - loss: 0.0159 - val_loss: 0.0144\n",
      "Epoch 35/50\n",
      "26280/26280 - 2s - loss: 0.0158 - val_loss: 0.0145\n",
      "Epoch 36/50\n",
      "26280/26280 - 2s - loss: 0.0157 - val_loss: 0.0143\n",
      "Epoch 37/50\n",
      "26280/26280 - 2s - loss: 0.0155 - val_loss: 0.0144\n",
      "Epoch 38/50\n",
      "26280/26280 - 2s - loss: 0.0158 - val_loss: 0.0137\n",
      "Epoch 39/50\n",
      "26280/26280 - 2s - loss: 0.0156 - val_loss: 0.0136\n",
      "Epoch 40/50\n",
      "26280/26280 - 2s - loss: 0.0157 - val_loss: 0.0141\n",
      "Epoch 41/50\n",
      "26280/26280 - 2s - loss: 0.0158 - val_loss: 0.0146\n",
      "Epoch 42/50\n",
      "26280/26280 - 2s - loss: 0.0157 - val_loss: 0.0151\n",
      "Epoch 43/50\n",
      "26280/26280 - 2s - loss: 0.0157 - val_loss: 0.0142\n",
      "Epoch 44/50\n",
      "26280/26280 - 2s - loss: 0.0156 - val_loss: 0.0137\n",
      "Epoch 45/50\n",
      "26280/26280 - 2s - loss: 0.0156 - val_loss: 0.0142\n",
      "Epoch 46/50\n",
      "26280/26280 - 2s - loss: 0.0154 - val_loss: 0.0141\n",
      "Epoch 47/50\n",
      "26280/26280 - 2s - loss: 0.0155 - val_loss: 0.0137\n",
      "Epoch 48/50\n",
      "26280/26280 - 2s - loss: 0.0158 - val_loss: 0.0135\n",
      "Epoch 49/50\n",
      "26280/26280 - 1s - loss: 0.0156 - val_loss: 0.0137\n",
      "Epoch 50/50\n",
      "26280/26280 - 2s - loss: 0.0157 - val_loss: 0.0153\n"
     ]
    }
   ],
   "source": [
    "# fit network\n",
    "history = model2.fit(train_X, train_y, epochs=50, batch_size=72, validation_data=(test_X, test_y), verbose=2, shuffle=False)"
   ]
  },
  {
   "cell_type": "code",
   "execution_count": 75,
   "metadata": {},
   "outputs": [
    {
     "data": {
      "image/png": "[encoded data removed]",
      "text/plain": [
       "<Figure size 432x288 with 1 Axes>"
      ]
     },
     "metadata": {
      "needs_background": "light"
     },
     "output_type": "display_data"
    }
   ],
   "source": [
    "# plot history\n",
    "pyplot.plot(history.history['loss'], label='train')\n",
    "pyplot.plot(history.history['val_loss'], label='test')\n",
    "pyplot.legend()\n",
    "pyplot.show()"
   ]
  },
  {
   "cell_type": "code",
   "execution_count": 76,
   "metadata": {},
   "outputs": [],
   "source": [
    "##Predicting pollution\n",
    "y_pred = model2.predict(test_X)"
   ]
  },
  {
   "cell_type": "code",
   "execution_count": 77,
   "metadata": {},
   "outputs": [],
   "source": [
    "test_X = test_X.reshape((test_X.shape[0], test_X.shape[2]))\n",
    "# invert scaling for forecast\n",
    "inv_yhat = np.concatenate((y_pred, test_X[:, 1:]), axis=1)\n",
    "inv_yhat = scaler.inverse_transform(inv_yhat)\n",
    "inv_yhat = inv_yhat[:,0]\n",
    "# invert scaling for actual\n",
    "test_y = test_y.reshape((len(test_y), 1))\n",
    "inv_y = np.concatenate((test_y, test_X[:, 1:]), axis=1)\n",
    "inv_y = scaler.inverse_transform(inv_y)\n",
    "inv_y = inv_y[:,0]"
   ]
  },
  {
   "cell_type": "code",
   "execution_count": 78,
   "metadata": {},
   "outputs": [
    {
     "name": "stdout",
     "output_type": "stream",
     "text": [
      "Test RMSE: 27.375\n"
     ]
    }
   ],
   "source": [
    "# calculate RMSE\n",
    "rmse = np.sqrt(metrics.mean_squared_error(inv_y, inv_yhat))\n",
    "print('Test RMSE: %.3f' % rmse)"
   ]
  },
  {
   "cell_type": "markdown",
   "metadata": {},
   "source": [
    "The RMSE increased slightly and by looking at the plot we can see that the model didn't do well compared to the first one."
   ]
  },
  {
   "cell_type": "code",
   "execution_count": null,
   "metadata": {},
   "outputs": [],
   "source": []
  }
 ],
 "metadata": {
  "kernelspec": {
   "display_name": "Python 3",
   "language": "python",
   "name": "python3"
  },
  "language_info": {
   "codemirror_mode": {
    "name": "ipython",
    "version": 3
   },
   "file_extension": ".py",
   "mimetype": "text/x-python",
   "name": "python",
   "nbconvert_exporter": "python",
   "pygments_lexer": "ipython3",
   "version": "3.6.10"
  }
 },
 "nbformat": 4,
 "nbformat_minor": 4
}
